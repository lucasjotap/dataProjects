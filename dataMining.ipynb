{
  "nbformat": 4,
  "nbformat_minor": 0,
  "metadata": {
    "colab": {
      "provenance": []
    },
    "kernelspec": {
      "name": "python3",
      "display_name": "Python 3"
    },
    "language_info": {
      "name": "python"
    }
  },
  "cells": [
    {
      "cell_type": "markdown",
      "source": [
        "# **What is affinity analysis?**\n",
        "\n",
        "Affinity analysis is a type of data mining that gives similarity between samples\n",
        "(objects). This could be the similarity between the following:\n",
        "  \n",
        "  •users on a website, in order to provide varied services or targeted advertising\n",
        "\n",
        "  •items to sell to those users, in order to provide recommended\n",
        "movies or products\n",
        "  \n",
        "  •human genes, in order to find people that share the same ancestors \n",
        "\n",
        "We can measure affinity in a number of ways. For instance, we can record how\n",
        "frequently two products are purchased together. We can also record the accuracy\n",
        "of the statement when a person buys object 1 and also when they buy object 2."
      ],
      "metadata": {
        "id": "hmraKCW9odMY"
      }
    },
    {
      "cell_type": "code",
      "execution_count": 3,
      "metadata": {
        "id": "tptPB4Fslsjx"
      },
      "outputs": [],
      "source": [
        "import numpy as np\n",
        "dataset_filename = \"/content/sample_data/affinity_dataset.txt\"\n",
        "x = np.loadtxt(dataset_filename)"
      ]
    },
    {
      "cell_type": "code",
      "source": [
        "# Numpy shape\n",
        "num_samples, num_features = x.shape\n",
        "print(f'{num_samples} lines.')\n",
        "print(f'{num_features} columns.')"
      ],
      "metadata": {
        "colab": {
          "base_uri": "https://localhost:8080/"
        },
        "id": "q1alrlzpvix_",
        "outputId": "3322563b-034f-458e-9d44-5bf415a16b6e"
      },
      "execution_count": 17,
      "outputs": [
        {
          "output_type": "stream",
          "name": "stdout",
          "text": [
            "100 lines.\n",
            "5 columns.\n"
          ]
        }
      ]
    },
    {
      "cell_type": "code",
      "source": [
        "x[:5]"
      ],
      "metadata": {
        "colab": {
          "base_uri": "https://localhost:8080/"
        },
        "id": "HRQdyfDwpr6f",
        "outputId": "7ce4e5ae-79e5-421d-e21a-e90bfd658c8d"
      },
      "execution_count": 4,
      "outputs": [
        {
          "output_type": "execute_result",
          "data": {
            "text/plain": [
              "array([[0., 0., 1., 1., 1.],\n",
              "       [1., 1., 0., 1., 0.],\n",
              "       [1., 0., 1., 1., 0.],\n",
              "       [0., 0., 1., 1., 1.],\n",
              "       [0., 1., 0., 0., 1.]])"
            ]
          },
          "metadata": {},
          "execution_count": 4
        }
      ]
    },
    {
      "cell_type": "code",
      "source": [
        "features = [\"bread\", \"milk\", \"cheese\", \"apples\", \"bananas\"]"
      ],
      "metadata": {
        "id": "uUf9rrym_KEg"
      },
      "execution_count": 45,
      "outputs": []
    },
    {
      "cell_type": "markdown",
      "source": [
        "## If a person buys product X, then they are likely to purchase product Y."
      ],
      "metadata": {
        "id": "adAuCwWjqdFb"
      }
    },
    {
      "cell_type": "code",
      "source": [
        "# Checking how many people bought apples based on the data.\n",
        "apple_sales = 0\n",
        "for person in x:\n",
        "  if person[3] == 1: # This person bought apples.\n",
        "    apple_sales += 1\n",
        "print(f'{apple_sales} people bought apples.')"
      ],
      "metadata": {
        "colab": {
          "base_uri": "https://localhost:8080/"
        },
        "id": "zJV3ekfjqcoI",
        "outputId": "dc7b9a06-dcf2-4faa-ae77-1f4d914eaf3e"
      },
      "execution_count": 7,
      "outputs": [
        {
          "output_type": "stream",
          "name": "stdout",
          "text": [
            "36 people bought apples.\n"
          ]
        }
      ]
    },
    {
      "cell_type": "code",
      "source": [
        "# Checking how many people bought apples and bananas.\n",
        "rule_valid = 0\n",
        "rule_invalid = 0\n",
        "for person in x:\n",
        "  if person[3] == 1:\n",
        "    if person[4] == 1:\n",
        "      rule_valid += 1\n",
        "    else:\n",
        "      rule_invalid += 1\n",
        "print(f'{rule_valid} people bought only apples.')\n",
        "print(f'{rule_invalid} people bought apples and bananas.')"
      ],
      "metadata": {
        "colab": {
          "base_uri": "https://localhost:8080/"
        },
        "id": "l_SdxhaGuA-a",
        "outputId": "45628031-4f8d-42f2-f0e7-1a4768646b9c"
      },
      "execution_count": 20,
      "outputs": [
        {
          "output_type": "stream",
          "name": "stdout",
          "text": [
            "21 people bought only apples.\n",
            "15 people bought apples and bananas.\n"
          ]
        }
      ]
    },
    {
      "cell_type": "code",
      "source": [
        "# Now we have the data to build our Support and Confidence cases.\n",
        "support = rule_valid # Support is the number of times a rule has been discovered.\n",
        "confidence = rule_valid/apple_sales\n",
        "print(\"The support is {0} and the confidence is {1:.3f}.\".format(support, confidence))\n",
        "print(\"As a percentage that is {0:.1f}%.\".format(confidence*100))"
      ],
      "metadata": {
        "colab": {
          "base_uri": "https://localhost:8080/"
        },
        "id": "nX8irLaH43RA",
        "outputId": "d9264471-fd73-40ac-a3a4-592cdc50208e"
      },
      "execution_count": 30,
      "outputs": [
        {
          "output_type": "stream",
          "name": "stdout",
          "text": [
            "The support is 21 and the confidence is 0.583.\n",
            "As a percentage that is 58.3%.\n"
          ]
        }
      ]
    },
    {
      "cell_type": "code",
      "source": [
        "from collections import defaultdict\n",
        "# Now compute for all possible rules\n",
        "valid_rules = defaultdict(int)\n",
        "invalid_rules = defaultdict(int)\n",
        "num_occurences = defaultdict(int)\n",
        "\n",
        "for sample in x:\n",
        "    for premise in range(num_features):\n",
        "        if sample[premise] == 0: continue\n",
        "        # Record that the premise was bought in another transaction\n",
        "        num_occurences[premise] += 1\n",
        "        for conclusion in range(num_features):\n",
        "          if premise == conclusion: # It makes little sense to compare x -> x.\n",
        "            continue\n",
        "          if sample[conclusion] == 1:\n",
        "            # Then it mean that the person bought the conclusion item.\n",
        "            valid_rules[(premise, conclusion)] += 1\n",
        "          else:\n",
        "            # Then the person only bought the premise, but not the conclusion.\n",
        "            invalid_rules[(premise, conclusion)] += 1\n",
        "\n",
        "support = valid_rules # Support is simply our valid rules.\n",
        "confidence = defaultdict(float)\n",
        "for premise, conclusion in valid_rules.keys():\n",
        "    confidence[(premise, conclusion)] = valid_rules[(premise, conclusion)] / num_occurences[premise]\n",
        "\n",
        "for premise, conclusion in confidence:\n",
        "    premise_name = features[premise]\n",
        "    conclusion_name = features[conclusion]\n",
        "    print(\"Rule: If a person buys {0} they will also buy {1}\".format(premise_name, conclusion_name))\n",
        "    print(\" - Confidence: {0:.3f}\".format(confidence[(premise, conclusion)]))\n",
        "    print(\" - Support: {0}\".format(support[(premise, conclusion)]))\n",
        "    print(\"\")"
      ],
      "metadata": {
        "colab": {
          "base_uri": "https://localhost:8080/"
        },
        "id": "tixyDSGC7dUb",
        "outputId": "2dad00ad-b1f6-4146-8011-686a2a23d7d5"
      },
      "execution_count": 46,
      "outputs": [
        {
          "output_type": "stream",
          "name": "stdout",
          "text": [
            "Rule: If a person buys cheese they will also buy apples\n",
            " - Confidence: 0.610\n",
            " - Support: 25\n",
            "\n",
            "Rule: If a person buys cheese they will also buy bananas\n",
            " - Confidence: 0.659\n",
            " - Support: 27\n",
            "\n",
            "Rule: If a person buys apples they will also buy cheese\n",
            " - Confidence: 0.694\n",
            " - Support: 25\n",
            "\n",
            "Rule: If a person buys apples they will also buy bananas\n",
            " - Confidence: 0.583\n",
            " - Support: 21\n",
            "\n",
            "Rule: If a person buys bananas they will also buy cheese\n",
            " - Confidence: 0.458\n",
            " - Support: 27\n",
            "\n",
            "Rule: If a person buys bananas they will also buy apples\n",
            " - Confidence: 0.356\n",
            " - Support: 21\n",
            "\n",
            "Rule: If a person buys bread they will also buy milk\n",
            " - Confidence: 0.519\n",
            " - Support: 14\n",
            "\n",
            "Rule: If a person buys bread they will also buy apples\n",
            " - Confidence: 0.185\n",
            " - Support: 5\n",
            "\n",
            "Rule: If a person buys milk they will also buy bread\n",
            " - Confidence: 0.304\n",
            " - Support: 14\n",
            "\n",
            "Rule: If a person buys milk they will also buy apples\n",
            " - Confidence: 0.196\n",
            " - Support: 9\n",
            "\n",
            "Rule: If a person buys apples they will also buy bread\n",
            " - Confidence: 0.139\n",
            " - Support: 5\n",
            "\n",
            "Rule: If a person buys apples they will also buy milk\n",
            " - Confidence: 0.250\n",
            " - Support: 9\n",
            "\n",
            "Rule: If a person buys bread they will also buy cheese\n",
            " - Confidence: 0.148\n",
            " - Support: 4\n",
            "\n",
            "Rule: If a person buys cheese they will also buy bread\n",
            " - Confidence: 0.098\n",
            " - Support: 4\n",
            "\n",
            "Rule: If a person buys milk they will also buy bananas\n",
            " - Confidence: 0.413\n",
            " - Support: 19\n",
            "\n",
            "Rule: If a person buys bananas they will also buy milk\n",
            " - Confidence: 0.322\n",
            " - Support: 19\n",
            "\n",
            "Rule: If a person buys bread they will also buy bananas\n",
            " - Confidence: 0.630\n",
            " - Support: 17\n",
            "\n",
            "Rule: If a person buys bananas they will also buy bread\n",
            " - Confidence: 0.288\n",
            " - Support: 17\n",
            "\n",
            "Rule: If a person buys milk they will also buy cheese\n",
            " - Confidence: 0.152\n",
            " - Support: 7\n",
            "\n",
            "Rule: If a person buys cheese they will also buy milk\n",
            " - Confidence: 0.171\n",
            " - Support: 7\n",
            "\n"
          ]
        }
      ]
    }
  ]
}